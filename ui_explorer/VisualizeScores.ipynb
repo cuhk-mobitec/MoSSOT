{
 "cells": [
  {
   "cell_type": "code",
   "execution_count": null,
   "metadata": {},
   "outputs": [],
   "source": [
    "from lib import layout\n",
    "from lib.layout import *\n",
    "import json\n",
    "\n",
    "IdP = 'sina'\n",
    "\n",
    "with open('conf/explorer.weights.json','r') as f:\n",
    "    wstr = f.read()\n",
    "with open('conf/explorer.{}.conf'.format(IdP), 'r') as f:\n",
    "    for line in f:\n",
    "        if 'idp_keywords' in line:\n",
    "            idp_keywords = line.split('=')[-1].strip().replace('||', '|')\n",
    "            break\n",
    "wstr = wstr.replace('{{IdP_KEYWORDS}}', idp_keywords)\n",
    "layout.WEIGHTS = json.loads(wstr)"
   ]
  },
  {
   "cell_type": "code",
   "execution_count": null,
   "metadata": {},
   "outputs": [],
   "source": [
    "# get live screen dump if needed\n",
    "from os import system\n",
    "system('adb shell uiautomator dump')\n",
    "system('adb pull /sdcard/window_dump.xml /tmp/screen.xml')\n",
    "system('adb exec-out screencap -p > /tmp/screen.png')"
   ]
  },
  {
   "cell_type": "code",
   "execution_count": null,
   "metadata": {},
   "outputs": [],
   "source": [
    "with open('/tmp/screen.xml','r') as f:\n",
    "    xml = f.read()\n",
    "with open('/tmp/screen.png', 'rb') as f:\n",
    "    img = f.read()"
   ]
  },
  {
   "cell_type": "code",
   "execution_count": null,
   "metadata": {},
   "outputs": [],
   "source": [
    "page = UniquePage(xml, '', screen_img_data=img)"
   ]
  },
  {
   "cell_type": "markdown",
   "metadata": {},
   "source": [
    "## Mark and join all clickable elements in the page"
   ]
  },
  {
   "cell_type": "code",
   "execution_count": null,
   "metadata": {},
   "outputs": [],
   "source": [
    "def markall():\n",
    "#     from ipdb import set_trace; set_trace()\n",
    "    page._mark_all_clickable_area()\n",
    "markall()"
   ]
  },
  {
   "cell_type": "code",
   "execution_count": null,
   "metadata": {},
   "outputs": [],
   "source": [
    "boxes = page._clickable_area\n",
    "print 'count:', len(boxes), '\\n', boxes"
   ]
  },
  {
   "cell_type": "markdown",
   "metadata": {},
   "source": [
    "### Visualize the clickable area"
   ]
  },
  {
   "cell_type": "code",
   "execution_count": null,
   "metadata": {},
   "outputs": [],
   "source": [
    "from IPython.core.display import display\n",
    "from PIL import Image as Img\n",
    "from PIL import ImageDraw\n",
    "from io import BytesIO\n",
    "from random import randint"
   ]
  },
  {
   "cell_type": "code",
   "execution_count": null,
   "metadata": {},
   "outputs": [],
   "source": [
    "simg = Img.open(BytesIO(img)).convert('RGB')\n",
    "draw = ImageDraw.Draw(simg, 'RGBA')\n",
    "for box in boxes:\n",
    "    draw.rectangle(box, fill=(randint(0,255),randint(0,255),randint(0,255),70), outline=(randint(0,255),randint(0,255),randint(0,255)))\n",
    "display(simg)"
   ]
  },
  {
   "cell_type": "markdown",
   "metadata": {},
   "source": [
    "## Visualize elements score"
   ]
  },
  {
   "cell_type": "code",
   "execution_count": null,
   "metadata": {
    "scrolled": true
   },
   "outputs": [],
   "source": [
    "score_threshold = 0.11 # filter out elements below this score\n",
    "\n",
    "all_ue = list(page.get_all_elements())\n",
    "all_ue = [u for u in all_ue if u.score >= score_threshold]\n",
    "sorted_ue = sorted(all_ue, key=lambda u: u.score, reverse=True)\n",
    "\n",
    "offset = 10\n",
    "drawed_boxes = []\n",
    "scores = [ue.score for ue in sorted_ue]\n",
    "smin = score_threshold*1.0\n",
    "smax = max(0.2, max(scores)*1.0)\n",
    "\n",
    "from matplotlib import cm\n",
    "jet = cm.get_cmap('jet')\n",
    "\n",
    "simg = Img.open(BytesIO(img)).convert('RGB')\n",
    "draw = ImageDraw.Draw(simg, 'RGBA')\n",
    "for ue in sorted_ue[::-1]:\n",
    "    box = ElementInfo(ue._element).bounds\n",
    "    if box in drawed_boxes:\n",
    "        box = ((box[0][0]+offset, box[0][1]+offset), (box[1][0]+offset, box[1][1]+offset))\n",
    "    drawed_boxes.append(box)\n",
    "    snorm = (ue.score-smin)/(smax-smin)\n",
    "    fill = [int(c*255) for c in jet(snorm)]\n",
    "    fill[3] = int(snorm*200)\n",
    "    fill = tuple(fill)\n",
    "    draw.rectangle(box, fill=fill, outline='green')\n",
    "    draw.text(box[0], \"{:.3f}\".format(ue.score), fill='black')\n",
    "display(simg)"
   ]
  },
  {
   "cell_type": "code",
   "execution_count": null,
   "metadata": {},
   "outputs": [],
   "source": []
  }
 ],
 "metadata": {
  "kernelspec": {
   "display_name": "Python 2",
   "language": "python",
   "name": "python2"
  },
  "language_info": {
   "codemirror_mode": {
    "name": "ipython",
    "version": 2
   },
   "file_extension": ".py",
   "mimetype": "text/x-python",
   "name": "python",
   "nbconvert_exporter": "python",
   "pygments_lexer": "ipython2",
   "version": "2.7.12"
  }
 },
 "nbformat": 4,
 "nbformat_minor": 1
}
